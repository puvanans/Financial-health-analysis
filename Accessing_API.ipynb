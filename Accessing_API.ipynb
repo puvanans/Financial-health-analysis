{
  "nbformat": 4,
  "nbformat_minor": 0,
  "metadata": {
    "colab": {
      "provenance": [],
      "authorship_tag": "ABX9TyPfcjV9c5XnH8kj8rqoTEP7",
      "include_colab_link": true
    },
    "kernelspec": {
      "name": "python3",
      "display_name": "Python 3"
    },
    "language_info": {
      "name": "python"
    }
  },
  "cells": [
    {
      "cell_type": "markdown",
      "metadata": {
        "id": "view-in-github",
        "colab_type": "text"
      },
      "source": [
        "<a href=\"https://colab.research.google.com/github/puvanans/Financial-health-analysis/blob/main/Accessing_API.ipynb\" target=\"_parent\"><img src=\"https://colab.research.google.com/assets/colab-badge.svg\" alt=\"Open In Colab\"/></a>"
      ]
    },
    {
      "cell_type": "markdown",
      "source": [
        "**Accessing AlphaVantage API**\n",
        "\n",
        "As the title suggests, the goal of this notebook is to connect to the data source *(AlphaVantage API)*. From this API we will obtain data to analyze financial health.\n",
        "\n",
        "From the obtained data we will calculate the relevant metrics.\n",
        "\n",
        "**Process**\n",
        "\n",
        "*  **Connect to the API** - Define a function to take in a string parameter and access the AlphaVantage API to obtain data.\n",
        "\n"
      ],
      "metadata": {
        "id": "o6oCGPtTbhwU"
      }
    },
    {
      "cell_type": "code",
      "source": [
        "import requests\n",
        "import time"
      ],
      "metadata": {
        "id": "a_SKmJOtdO5Z"
      },
      "execution_count": 92,
      "outputs": []
    },
    {
      "cell_type": "markdown",
      "source": [
        "#### accessing_balance_sheet & accessing_income_statement\n",
        "\n",
        "This function will take a string parameter (company's ticker symbol) and return balances sheets and income statements for that company respectively.\n",
        "\n",
        "This function:\n",
        "\n",
        "*  Defines fstrings, which is the endpoint of the API we need to access.\n",
        "*  Use the url represented by the fstring to access the AlphaVantage API.\n",
        "*  The try block allows us to check for any error that may occur.The try block:\n",
        "  *  creates a response object which return data from the API\n",
        "  * checks for error and returns if any occur.\n",
        "  *  returns the the data returned by the API in JSON format.\n",
        "* And except blocks handle exceptions:\n",
        "  * HTTP error: And example is **'404'** if the resource is not found.\n",
        "  * RequestException: If the API request we made was not in the proper format this block will let us know.\n",
        "\n",
        "\n",
        "\n",
        "\n"
      ],
      "metadata": {
        "id": "GrLKdGg0i1t9"
      }
    },
    {
      "cell_type": "code",
      "source": [
        "def accessing_endpoints(ticker: str):\n",
        "\n",
        "  balance_sheet_endpoint = f'https://www.alphavantage.co/query?function=BALANCE_SHEET&symbol={ticker}&apikey=RQRA0RQ6ZZAVMA26'\n",
        "  income_statement_endpoint = f'https://www.alphavantage.co/query?function=INCOME_STATEMENT&symbol={ticker}&apikey=RQRA0RQ6ZZAVMA26'\n",
        "  monthly_stock_price_endpoint = f'https://www.alphavantage.co/query?function=TIME_SERIES_MONTHLY_ADJUSTED&symbol={ticker}&apikey=RQRA0RQ6ZZAVMA26'\n",
        "  \n",
        "  try:\n",
        "\n",
        "    balance_sheet_response = requests.get(balance_sheet_endpoint)\n",
        "\n",
        "    balance_sheet_response.raise_for_status()\n",
        "\n",
        "    income_statement_response = requests.get(income_statement_endpoint)\n",
        "\n",
        "    income_statement_response.raise_for_status()\n",
        "\n",
        "    balance_sheet = balance_sheet_response.json()\n",
        "\n",
        "    income_statement = income_statement_response.json()\n",
        "\n",
        "    monthly_stock_price_response = requests.get(monthly_stock_price_endpoint)\n",
        "\n",
        "    monthly_stock_price_response.raise_for_status()\n",
        "\n",
        "    monthly_stock_price = monthly_stock_price_response.json()\n",
        "\n",
        "    return income_statement,balance_sheet,monthly_stock_price\n",
        "\n",
        "  except balance_sheet_response.exceptions.HTTPError as err:\n",
        "    \n",
        "    return(f'HTTP Error with Balance Sheet Endpoint:{err}')\n",
        "    \n",
        "  except balance_sheet_response.exceptions.RequestException as err:\n",
        "    \n",
        "    return(f'Request Error with Balance Sheet Endpoint:{err}')\n",
        "\n",
        "  except income_statement_response.exceptions.HTTPError as err:\n",
        "    \n",
        "    return(f'HTTP Error with Income Statement Endpoint:{err}')\n",
        "    \n",
        "  except income_statement_response.exceptions.RequestException as err:\n",
        "    \n",
        "    return(f'Request Error with Income Statement Endpoint:{err}')\n",
        "  \n",
        "  except monthly_stock_price_response.exceptions.HTTPError as err:\n",
        "    \n",
        "    return(f'HTTP Error with stock price Endpoint:{err}')\n",
        "    \n",
        "  except monthly_stock_price_response.exceptions.RequestException as err:\n",
        "    \n",
        "    return(f'Request Error with stock price Endpoint:{err}')\n"
      ],
      "metadata": {
        "id": "uc4BUz_DrgjH"
      },
      "execution_count": 93,
      "outputs": []
    },
    {
      "cell_type": "markdown",
      "source": [
        "#### Second Option\n",
        "\n",
        "As a second option, I will be writing the same function to run using a loop.\n",
        "\n",
        "This new function would be more readable and easier to edit.\n",
        "\n",
        "Asyncio will considered as a third-option if there is a significant difference in the runtime."
      ],
      "metadata": {
        "id": "wmGH3KaG0SRp"
      }
    },
    {
      "cell_type": "code",
      "source": [
        "def access_endpoints_loop(ticker:str):\n",
        "\n",
        "  endpoints = [\n",
        "      {'name':'Balance_sheet','url':f'https://www.alphavantage.co/query?function=BALANCE_SHEET&symbol={ticker}&apikey=RQRA0RQ6ZZAVMA26'},\n",
        "      {'name':'Income_statement','url':f'https://www.alphavantage.co/query?function=INCOME_STATEMENT&symbol={ticker}&apikey=RQRA0RQ6ZZAVMA26'},\n",
        "      {'name':'Stock_price','url': f'https://www.alphavantage.co/query?function=TIME_SERIES_MONTHLY_ADJUSTED&symbol={ticker}&apikey=RQRA0RQ6ZZAVMA26'}\n",
        "    ]\n",
        "  finalJSON = []\n",
        "  for endpoint in endpoints:\n",
        "    name = endpoint['name']\n",
        "    url = endpoint['url']\n",
        "    try:\n",
        "      response = requests.get(url)\n",
        "      response.raise_for_status()\n",
        "      responseJSON = response.json()\n",
        "      finalJSON.insert(0,responseJSON)\n",
        "\n",
        "    except response.exceptions.HTTPError as err:\n",
        "      return f'HTTP error with {name} endpoint :{err}'\n",
        "\n",
        "    except response.exceptions.RequestExceptions as err:\n",
        "      return f'Request error with {name} endpoint:{err}'\n",
        "      \n",
        "  return finalJSON\n",
        "\n",
        "# start = time.time()\n",
        "\n",
        "# access_endpoints_loop('AMZ')\n",
        "\n",
        "# print (\"Time taken: \", time.time() -start)\n"
      ],
      "metadata": {
        "id": "LxKPSsVO093H"
      },
      "execution_count": 97,
      "outputs": []
    },
    {
      "cell_type": "code",
      "source": [
        "\n",
        "start = time.time()\n",
        "\n",
        "accessing_endpoints('META')\n",
        "\n",
        "print (\"Time taken non-looped version: \", time.time() -start)\n",
        "\n",
        "start = time.time()\n",
        "\n",
        "access_endpoints_loop('META')\n",
        "\n",
        "print (\"Time taken for looped version: \", time.time() -start)"
      ],
      "metadata": {
        "colab": {
          "base_uri": "https://localhost:8080/"
        },
        "id": "Ylm00syomBS-",
        "outputId": "cc042de5-7afd-46aa-ba2f-9e5914d0720e"
      },
      "execution_count": 103,
      "outputs": [
        {
          "output_type": "stream",
          "name": "stdout",
          "text": [
            "Time taken non-looped version:  1.4390430450439453\n",
            "Time taken for looped version:  1.495769739151001\n"
          ]
        }
      ]
    },
    {
      "cell_type": "code",
      "source": [
        "!python --version"
      ],
      "metadata": {
        "id": "Ka44Z3W6m26i",
        "outputId": "de6ee1ed-d7bc-4460-bf9c-f83e7a98e5c1",
        "colab": {
          "base_uri": "https://localhost:8080/"
        }
      },
      "execution_count": 99,
      "outputs": [
        {
          "output_type": "stream",
          "name": "stdout",
          "text": [
            "Python 3.8.10\n"
          ]
        }
      ]
    }
  ]
}