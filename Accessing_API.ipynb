{
  "nbformat": 4,
  "nbformat_minor": 0,
  "metadata": {
    "colab": {
      "provenance": [],
      "authorship_tag": "ABX9TyPnppBUutS2nc8LL20P9K3Q",
      "include_colab_link": true
    },
    "kernelspec": {
      "name": "python3",
      "display_name": "Python 3"
    },
    "language_info": {
      "name": "python"
    }
  },
  "cells": [
    {
      "cell_type": "markdown",
      "metadata": {
        "id": "view-in-github",
        "colab_type": "text"
      },
      "source": [
        "<a href=\"https://colab.research.google.com/github/puvanans/Financial-health-analysis/blob/main/Accessing_API.ipynb\" target=\"_parent\"><img src=\"https://colab.research.google.com/assets/colab-badge.svg\" alt=\"Open In Colab\"/></a>"
      ]
    },
    {
      "cell_type": "markdown",
      "source": [
        "**Accessing AlphaVantage API**\n",
        "\n",
        "As the title suggests, the goal of this notebook is to connect to the data source *(AlphaVantage API)*. From this API we will obtain data to analyze financial health.\n",
        "\n",
        "From the obtained data we will calculate the relevant metrics.\n",
        "\n",
        "**Process**\n",
        "\n",
        "*  **Connect to the API** - Define a function to take in a string parameter(Stock Ticker)and access the AlphaVantage API to obtain data.\n",
        "\n"
      ],
      "metadata": {
        "id": "o6oCGPtTbhwU"
      }
    },
    {
      "cell_type": "markdown",
      "source": [],
      "metadata": {
        "id": "0GkxnczcERuI"
      }
    },
    {
      "cell_type": "code",
      "source": [
        "import requests\n",
        "# to access APIs\n",
        "import time\n",
        "# to measure the run time\n",
        "from google.colab import drive\n",
        "# to save the data to drive and export it to another notebook.\n",
        "drive.mount('/content/drive')"
      ],
      "metadata": {
        "id": "a_SKmJOtdO5Z",
        "outputId": "e6fbaffa-041e-4b31-9b10-3dec669d22df",
        "colab": {
          "base_uri": "https://localhost:8080/"
        }
      },
      "execution_count": null,
      "outputs": [
        {
          "output_type": "stream",
          "name": "stdout",
          "text": [
            "Drive already mounted at /content/drive; to attempt to forcibly remount, call drive.mount(\"/content/drive\", force_remount=True).\n"
          ]
        }
      ]
    },
    {
      "cell_type": "markdown",
      "source": [
        "#### accessing_balance_sheet & accessing_income_statement\n",
        "\n",
        "This function will take a string parameter (company's ticker symbol) and return balance sheets, income statements, and adjusted stock prices for that company respectively.\n",
        "\n",
        "This function:\n",
        "\n",
        "*  Defines f-strings, which is the endpoint of the API we need to access.\n",
        "*  Use the url represented by the f-string to access the AlphaVantage API.\n",
        "*  The try block allows us to check for any error that may occur.The try block:\n",
        "  *  creates a response object which return data from the API\n",
        "  * checks for error and returns if any occur.\n",
        "  *  returns the the data returned by the API in JSON format.\n",
        "* And except blocks handle exceptions:\n",
        "  * HTTP error: And example is **'404'** if the resource is not found.\n",
        "  * RequestException: If the API request we made was not in the proper format this block will let us know.\n",
        "\n",
        "\n",
        "\n",
        "\n"
      ],
      "metadata": {
        "id": "GrLKdGg0i1t9"
      }
    },
    {
      "cell_type": "code",
      "source": [
        "def accessing_endpoints(ticker: str):\n",
        "\n",
        "  balance_sheet_endpoint = f'https://www.alphavantage.co/query?function=BALANCE_SHEET&symbol={ticker}&apikey=RQRA0RQ6ZZAVMA26'\n",
        "  income_statement_endpoint = f'https://www.alphavantage.co/query?function=INCOME_STATEMENT&symbol={ticker}&apikey=RQRA0RQ6ZZAVMA26'\n",
        "  monthly_stock_price_endpoint = f'https://www.alphavantage.co/query?function=TIME_SERIES_MONTHLY_ADJUSTED&symbol={ticker}&apikey=RQRA0RQ6ZZAVMA26'\n",
        "\n",
        "    \n",
        "  try:\n",
        "   \n",
        "    balance_sheet_response = requests.get(balance_sheet_endpoint)\n",
        "\n",
        "    balance_sheet_response.raise_for_status()\n",
        "\n",
        "    income_statement_response = requests.get(income_statement_endpoint)\n",
        "\n",
        "    income_statement_response.raise_for_status()\n",
        "\n",
        "    balance_sheet = balance_sheet_response.json()\n",
        "\n",
        "    income_statement = income_statement_response.json()\n",
        "\n",
        "    monthly_stock_price_response = requests.get(monthly_stock_price_endpoint)\n",
        "\n",
        "    monthly_stock_price_response.raise_for_status()\n",
        "\n",
        "    monthly_stock_price = monthly_stock_price_response.json()\n",
        "\n",
        "    \n",
        "  except balance_sheet_response.exceptions.HTTPError as err:\n",
        "    \n",
        "    return(f'HTTP Error with Balance Sheet Endpoint:{err}')\n",
        "    \n",
        "  except balance_sheet_response.exceptions.RequestException as err:\n",
        "    \n",
        "    return(f'Request Error with Balance Sheet Endpoint:{err}')\n",
        "\n",
        "  except income_statement_response.exceptions.HTTPError as err:\n",
        "    \n",
        "    return(f'HTTP Error with Income Statement Endpoint:{err}')\n",
        "    \n",
        "  except income_statement_response.exceptions.RequestException as err:\n",
        "    \n",
        "    return(f'Request Error with Income Statement Endpoint:{err}')\n",
        "  \n",
        "  except monthly_stock_price_response.exceptions.HTTPError as err:\n",
        "    \n",
        "    return(f'HTTP Error with stock price Endpoint:{err}')\n",
        "    \n",
        "  except monthly_stock_price_response.exceptions.RequestException as err:\n",
        "    \n",
        "    return(f'Request Error with stock price Endpoint:{err}')\n"
      ],
      "metadata": {
        "id": "uc4BUz_DrgjH"
      },
      "execution_count": null,
      "outputs": []
    },
    {
      "cell_type": "markdown",
      "source": [
        "#### Second Option\n",
        "\n",
        "As a second option, I will be writing the same function to run using a loop.\n",
        "\n",
        "This new function would be more readable and easier to edit.\n",
        "\n",
        "Asyncio will considered as a third-option if there is a significant difference in the runtime."
      ],
      "metadata": {
        "id": "wmGH3KaG0SRp"
      }
    },
    {
      "cell_type": "code",
      "source": [
        "def access_endpoints_loop(ticker:str):\n",
        "\n",
        "  endpoints = [\n",
        "      {'name':'Balance_sheet','url':f'https://www.alphavantage.co/query?function=BALANCE_SHEET&symbol={ticker}&apikey=RQRA0RQ6ZZAVMA26'},\n",
        "      {'name':'Stock_price','url': f'https://www.alphavantage.co/query?function=TIME_SERIES_MONTHLY_ADJUSTED&symbol={ticker}&apikey=RQRA0RQ6ZZAVMA26'},\n",
        "      {'name':'Income_statement','url':f'https://www.alphavantage.co/query?function=INCOME_STATEMENT&symbol={ticker}&apikey=RQRA0RQ6ZZAVMA26'},\n",
        "    ]\n",
        "\n",
        "  raw_data = []\n",
        "\n",
        "  for endpoint in endpoints:\n",
        "    name = endpoint['name']\n",
        "    url = endpoint['url']\n",
        "\n",
        "    try:\n",
        "      response = requests.get(url)\n",
        "      response.raise_for_status()\n",
        "      raw_data.append(response.json())\n",
        "\n",
        "    except response.exceptions.HTTPError as err:\n",
        "      return f'HTTP error with {name} endpoint :{err}'\n",
        "\n",
        "    except response.exceptions.RequestExceptions as err:\n",
        "      return f'Request error with {name} endpoint:{err}'\n",
        "\n",
        "  return raw_data  \n",
        "  \n",
        "# start = time.time()\n",
        "\n",
        "# access_endpoints_loop('AMZ')\n",
        "\n",
        "# print (\"Time taken: \", time.time() -start)\n"
      ],
      "metadata": {
        "id": "LxKPSsVO093H"
      },
      "execution_count": 43,
      "outputs": []
    },
    {
      "cell_type": "code",
      "source": [
        "start = time.time()\n",
        "\n",
        "accessing_endpoints('GOOG')\n",
        "\n",
        "print (\"Time taken non-looped version: \", time.time() -start)\n",
        "\n",
        "start = time.time()\n",
        "\n",
        "access_endpoints_loop('GOOG')\n",
        "\n",
        "print (\"Time taken for looped version: \", time.time() -start)"
      ],
      "metadata": {
        "colab": {
          "base_uri": "https://localhost:8080/"
        },
        "id": "Ylm00syomBS-",
        "outputId": "776ceb1f-b442-4022-a5ec-19a9e46c1006"
      },
      "execution_count": null,
      "outputs": [
        {
          "output_type": "stream",
          "name": "stdout",
          "text": [
            "Time taken non-looped version:  0.3926241397857666\n",
            "Time taken for looped version:  0.3890366554260254\n"
          ]
        }
      ]
    },
    {
      "cell_type": "code",
      "source": [
        "ticker_symbols = ['AAPL', 'MSFT', 'AMZN', 'GOOGL', 'GOOG', 'FB', 'JNJ', 'V', 'PG', 'JPM','XOM', 'VZ', 'T', 'HD', 'UNH', 'MA', 'INTC', 'CVX', 'WFC', 'PFE','CSCO', 'DIS', 'PEP', 'BAC', 'BA', 'MRK', 'NKE', 'KO', 'GE', 'MCD','CAT', 'DWDP', 'MMM', 'IBM', 'WMT', 'UNP', 'AXP', 'VRSN', 'UPS', 'ORCL','CHTR', 'TMO', 'ADBE', 'DOW', 'LLY', 'ACN', 'ABT', 'NVDA', 'AVGO', 'HON','TXN', 'NEE', 'INTU', 'MO', 'MDLZ', 'PM', 'TATAMOTORS', 'VOD', 'MMC', 'VFC','ADP', 'ITW', 'ROP', 'CELG', 'LMT', 'BLK', 'BKNG', 'WBA', 'SBUX', 'DUK','EXC', 'LOW', 'AMT', 'SO', 'PNC', 'EMR', 'HUM', 'PPG', 'RTN', 'LRCX','CVS', 'PPL', 'MRO', 'AEP', 'MS', 'D', 'CAG', 'ED', 'AIG', 'CMCSA']\n"
      ],
      "metadata": {
        "id": "u-G6iyIC3uNf"
      },
      "execution_count": 35,
      "outputs": []
    },
    {
      "cell_type": "code",
      "source": [
        "\n",
        "ticker_symbols = ['AAPL', 'MSFT', 'AMZN', 'GOOGL', 'GOOG', 'FB', 'JNJ', 'V', 'PG', 'JPM','XOM', 'VZ', 'T', 'HD', 'UNH', 'MA', 'INTC', 'CVX', 'WFC', 'PFE','CSCO', 'DIS', 'PEP', 'BAC', 'BA', 'MRK', 'NKE', 'KO', 'GE', 'MCD','CAT', 'DWDP', 'MMM', 'IBM', 'WMT', 'UNP', 'AXP', 'VRSN', 'UPS', 'ORCL','CHTR', 'TMO', 'ADBE', 'DOW', 'LLY', 'ACN', 'ABT', 'NVDA', 'AVGO', 'HON','TXN', 'NEE', 'INTU', 'MO', 'MDLZ', 'PM', 'TATAMOTORS', 'VOD', 'MMC', 'VFC','ADP', 'ITW', 'ROP', 'CELG', 'LMT', 'BLK', 'BKNG', 'WBA', 'SBUX', 'DUK','EXC', 'LOW', 'AMT', 'SO', 'PNC', 'EMR', 'HUM', 'PPG', 'RTN', 'LRCX','CVS', 'PPL', 'MRO', 'AEP', 'MS', 'D', 'CAG', 'ED', 'AIG', 'CMCSA']\n",
        "\n",
        "run_time_list = []\n",
        "\n",
        "for i in ticker_symbols:\n",
        "\n",
        "  start_time = time.time()\n",
        "\n",
        "  access_endpoints_loop(i)\n",
        "\n",
        "  end_time = time.time()\n",
        "\n",
        "  run_time = (end_time)-(start_time)\n",
        "\n",
        "  run_time_list.append(run_time)\n",
        "\n",
        "print(\"The average runtime is:\")\n",
        "print(sum(run_time_list)/len(ticker_symbols))  \n"
      ],
      "metadata": {
        "id": "cQtIjLDS1E1a",
        "outputId": "eceaaa26-1db9-45ed-a851-ca5555fd5f0e",
        "colab": {
          "base_uri": "https://localhost:8080/"
        }
      },
      "execution_count": 44,
      "outputs": [
        {
          "output_type": "stream",
          "name": "stdout",
          "text": [
            "The average runtime is:\n",
            "0.522276857164171\n"
          ]
        }
      ]
    },
    {
      "cell_type": "code",
      "source": [],
      "metadata": {
        "id": "pIhHFEK-8S8R",
        "outputId": "9c6f1cd9-762a-407e-cd09-057e90476687",
        "colab": {
          "base_uri": "https://localhost:8080/"
        }
      },
      "execution_count": 48,
      "outputs": [
        {
          "output_type": "execute_result",
          "data": {
            "text/plain": [
              "166.66666666666666"
            ]
          },
          "metadata": {},
          "execution_count": 48
        }
      ]
    },
    {
      "cell_type": "code",
      "source": [
        "with open(\"/content/drive/My Drive/raw-data-from-API.txt\",\"w\") as file:\n",
        "    file.write(str(access_endpoints_loop('TSLA')))\n"
      ],
      "metadata": {
        "id": "lY0l1zNISAh9"
      },
      "execution_count": null,
      "outputs": []
    }
  ]
}