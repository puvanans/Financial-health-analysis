{
  "nbformat": 4,
  "nbformat_minor": 0,
  "metadata": {
    "colab": {
      "provenance": [],
      "authorship_tag": "ABX9TyNfXJOo3YQrZvKXYTFU4Yc1",
      "include_colab_link": true
    },
    "kernelspec": {
      "name": "python3",
      "display_name": "Python 3"
    },
    "language_info": {
      "name": "python"
    }
  },
  "cells": [
    {
      "cell_type": "markdown",
      "metadata": {
        "id": "view-in-github",
        "colab_type": "text"
      },
      "source": [
        "<a href=\"https://colab.research.google.com/github/puvanans/Financial-health-analysis/blob/main/Accessing_API.ipynb\" target=\"_parent\"><img src=\"https://colab.research.google.com/assets/colab-badge.svg\" alt=\"Open In Colab\"/></a>"
      ]
    },
    {
      "cell_type": "markdown",
      "source": [
        "**Accessing AlphaVantage API**\n",
        "\n",
        "As the title suggests, the goal of this notebook is to connect to the data source *(AlphaVantage API)*. From this API we will obtain data to analyze financial health.\n",
        "\n",
        "From the obtained data we will calculate the relevant metrics.\n",
        "\n",
        "**Process**\n",
        "\n",
        "*  **Connect to the API** - Define a function to take in a string parameter and access the AlphaVantage API to obtain data.\n",
        "\n"
      ],
      "metadata": {
        "id": "o6oCGPtTbhwU"
      }
    },
    {
      "cell_type": "code",
      "source": [
        "import requests"
      ],
      "metadata": {
        "id": "a_SKmJOtdO5Z"
      },
      "execution_count": 3,
      "outputs": []
    },
    {
      "cell_type": "code",
      "source": [
        "\n",
        "google_Income_Statement = requests.get('https://www.alphavantage.co/query?function=INCOME_STATEMENT&symbol=GOOG&apikey=RQRA0RQ6ZZAVMA26')\n",
        "\n",
        "google_Balance_Sheet = requests.get('https://www.alphavantage.co/query?function=BALANCE_SHEET&symbol=GOOG&apikey=RQRA0RQ6ZZAVMA26')"
      ],
      "metadata": {
        "id": "xoWa7s7u4sPE"
      },
      "execution_count": 4,
      "outputs": []
    },
    {
      "cell_type": "code",
      "source": [
        "Income = google_Income_Statement.json()\n",
        "\n",
        "Balance = google_Balance_Sheet.json()"
      ],
      "metadata": {
        "id": "4bGmMIM06V6e"
      },
      "execution_count": 5,
      "outputs": []
    },
    {
      "cell_type": "code",
      "source": [
        "def accessing_balance_sheet(ticker: str):\n",
        "  url = f'https://www.alphavantage.co/query?function=BALANCE_SHEET&symbol={ticker}&apikey=RQRA0RQ6ZZAVMA26'\n",
        "  try:\n",
        "    response = requests.get(url)\n",
        "    response.raise_for_status()\n",
        "    return response.json()\n",
        "  except response.exceptions.HTTPError as err:\n",
        "    print(f'HTTP Error:{err}')\n",
        "  except response.exceptions.RequestException as err:\n",
        "    print(f'Request Error:{err}')\n"
      ],
      "metadata": {
        "id": "uc4BUz_DrgjH"
      },
      "execution_count": 22,
      "outputs": []
    },
    {
      "cell_type": "code",
      "source": [
        "# accessing_balance_sheet('SOL')"
      ],
      "metadata": {
        "id": "Gz6g7seVKRP0"
      },
      "execution_count": 26,
      "outputs": []
    }
  ]
}