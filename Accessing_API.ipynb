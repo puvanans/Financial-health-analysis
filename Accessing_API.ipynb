{
  "nbformat": 4,
  "nbformat_minor": 0,
  "metadata": {
    "colab": {
      "provenance": [],
      "authorship_tag": "ABX9TyM0XbZ084/5GnlBcIdk2/HR",
      "include_colab_link": true
    },
    "kernelspec": {
      "name": "python3",
      "display_name": "Python 3"
    },
    "language_info": {
      "name": "python"
    }
  },
  "cells": [
    {
      "cell_type": "markdown",
      "metadata": {
        "id": "view-in-github",
        "colab_type": "text"
      },
      "source": [
        "<a href=\"https://colab.research.google.com/github/puvanans/Financial-health-analysis/blob/main/Accessing_API.ipynb\" target=\"_parent\"><img src=\"https://colab.research.google.com/assets/colab-badge.svg\" alt=\"Open In Colab\"/></a>"
      ]
    },
    {
      "cell_type": "markdown",
      "source": [
        "**Accessing AlphaVantage API**\n",
        "\n",
        "As the title suggests, the goal of this notebook is to connect to the data source *(AlphaVantage API)*. From this API we will obtain data to analyze financial health.\n",
        "\n",
        "From the obtained data we will calculate the relevant metrics.\n",
        "\n",
        "**Process**\n",
        "\n",
        "*  **Connect to the API** - Define a function to take in a string parameter and access the AlphaVantage API to obtain data.\n",
        "\n"
      ],
      "metadata": {
        "id": "o6oCGPtTbhwU"
      }
    },
    {
      "cell_type": "code",
      "source": [
        "import requests"
      ],
      "metadata": {
        "id": "a_SKmJOtdO5Z"
      },
      "execution_count": 39,
      "outputs": []
    },
    {
      "cell_type": "code",
      "source": [
        "\n",
        "google_Income_Statement = requests.get('https://www.alphavantage.co/query?function=INCOME_STATEMENT&symbol=GOOG&apikey=RQRA0RQ6ZZAVMA26')\n",
        "\n",
        "google_Balance_Sheet = requests.get('https://www.alphavantage.co/query?function=BALANCE_SHEET&symbol=GOOG&apikey=RQRA0RQ6ZZAVMA26')"
      ],
      "metadata": {
        "id": "xoWa7s7u4sPE"
      },
      "execution_count": 40,
      "outputs": []
    },
    {
      "cell_type": "code",
      "source": [
        "Income = google_Income_Statement.json()\n",
        "\n",
        "Balance = google_Balance_Sheet.json()"
      ],
      "metadata": {
        "id": "4bGmMIM06V6e"
      },
      "execution_count": 41,
      "outputs": []
    },
    {
      "cell_type": "markdown",
      "source": [
        "#### accessing_balance_sheet & accessing_income_statement\n",
        "\n",
        "These function will take a string parameter (company's ticker symbol) and return balances sheets and income statements for that company respectively.\n",
        "\n",
        "Each of these functions:\n",
        "\n",
        "*  Define an fstring, which is the endpoint of the API we need to access.\n",
        "*  Use the url represented by the fstring to access the AlphaVantage API.\n",
        "*  The try block allows us to check for any error that may occur.The try block:\n",
        "  *  creates a response object which return data from the API\n",
        "  * checks for error and returns if any occur.\n",
        "  *  returns the the data returned by the API in JSON format.\n",
        "* And except blocks handle exceptions:\n",
        "  * HTTP error: And example is **'404'** if the resource is not found.\n",
        "  * RequestException: If the API request we made was not in the proper format this block will let us know.\n",
        "\n",
        "\n",
        "\n",
        "\n"
      ],
      "metadata": {
        "id": "GrLKdGg0i1t9"
      }
    },
    {
      "cell_type": "code",
      "source": [
        "def accessing_balance_sheet(ticker: str):\n",
        "\n",
        "  endpoint = f'https://www.alphavantage.co/query?function=BALANCE_SHEET&symbol={ticker}&apikey=RQRA0RQ6ZZAVMA26'\n",
        "\n",
        "  try:\n",
        "    response = requests.get(endpoint)\n",
        "    response.raise_for_status()\n",
        "    return response.json()\n",
        "\n",
        "  except response.exceptions.HTTPError as err:\n",
        "    return(f'HTTP Error:{err}')\n",
        "    \n",
        "  except response.exceptions.RequestException as err:\n",
        "    return(f'Request Error:{err}')\n"
      ],
      "metadata": {
        "id": "uc4BUz_DrgjH"
      },
      "execution_count": 78,
      "outputs": []
    },
    {
      "cell_type": "code",
      "source": [
        "# accessing_balance_sheet('AMZN')"
      ],
      "metadata": {
        "id": "Gz6g7seVKRP0"
      },
      "execution_count": 80,
      "outputs": []
    },
    {
      "cell_type": "code",
      "source": [
        "def accessing_income_statement(ticker: str):\n",
        "  \n",
        "  endpoint = f'https://www.alphavantage.co/query?function=INCOME_STATEMENT&symbol={ticker}&apikey=RQRA0RQ6ZZAVMA26'\n",
        "\n",
        "  try:\n",
        "    response = requests.get(endpoint)\n",
        "    response.raise_for_status()\n",
        "    return response.json()\n",
        "\n",
        "  except response.exceptions.HTTPError as err:\n",
        "    return f'HTTP error:{err}'\n",
        "\n",
        "  except response.exceptions.RequestException as err:\n",
        "    return f'Request error:{err}'"
      ],
      "metadata": {
        "id": "T5kVkSmummKv"
      },
      "execution_count": 81,
      "outputs": []
    },
    {
      "cell_type": "code",
      "source": [
        "# accessing_income_statement('TSLA')"
      ],
      "metadata": {
        "id": "iVzRf-Hjnlbh"
      },
      "execution_count": 84,
      "outputs": []
    }
  ]
}