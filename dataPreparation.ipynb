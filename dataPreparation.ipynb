{
  "nbformat": 4,
  "nbformat_minor": 0,
  "metadata": {
    "colab": {
      "provenance": [],
      "authorship_tag": "ABX9TyOUbvF72gi6tUAYaRZehAu0",
      "include_colab_link": true
    },
    "kernelspec": {
      "name": "python3",
      "display_name": "Python 3"
    },
    "language_info": {
      "name": "python"
    }
  },
  "cells": [
    {
      "cell_type": "markdown",
      "metadata": {
        "id": "view-in-github",
        "colab_type": "text"
      },
      "source": [
        "<a href=\"https://colab.research.google.com/github/puvanans/Financial-health-analysis/blob/main/dataPreparation.ipynb\" target=\"_parent\"><img src=\"https://colab.research.google.com/assets/colab-badge.svg\" alt=\"Open In Colab\"/></a>"
      ]
    },
    {
      "cell_type": "code",
      "execution_count": null,
      "metadata": {
        "colab": {
          "base_uri": "https://localhost:8080/"
        },
        "id": "ZX0JXYzdTjqB",
        "outputId": "9ba49f0a-465d-4485-fcbe-c30fe0375d24"
      },
      "outputs": [
        {
          "output_type": "stream",
          "name": "stdout",
          "text": [
            "Mounted at /content/drive\n"
          ]
        }
      ],
      "source": [
        "from google.colab import drive\n",
        "drive.mount(\"/content/drive\")\n",
        "# connect to Google Drive "
      ]
    },
    {
      "cell_type": "code",
      "source": [
        "# saving this cell for dependencies\n",
        "import json"
      ],
      "metadata": {
        "id": "vrk0Me5IUGnP"
      },
      "execution_count": null,
      "outputs": []
    },
    {
      "cell_type": "code",
      "source": [
        "with open(\"/content/drive/My Drive/raw-data-from-API.txt\",\"r\") as file:\n",
        "  data = file.read()"
      ],
      "metadata": {
        "id": "-GxxBfYSoGRx"
      },
      "execution_count": 53,
      "outputs": []
    },
    {
      "cell_type": "code",
      "source": [
        "type(data)"
      ],
      "metadata": {
        "colab": {
          "base_uri": "https://localhost:8080/"
        },
        "id": "7h9pR1lUAoQ5",
        "outputId": "c05fe7c3-0579-4dc4-c752-9d092daa87ce"
      },
      "execution_count": 54,
      "outputs": [
        {
          "output_type": "execute_result",
          "data": {
            "text/plain": [
              "str"
            ]
          },
          "metadata": {},
          "execution_count": 54
        }
      ]
    },
    {
      "cell_type": "code",
      "source": [
        "raw_data = json.loads(data.replace(\"'\",'\"'))"
      ],
      "metadata": {
        "id": "avqy8zslom75"
      },
      "execution_count": 55,
      "outputs": []
    },
    {
      "cell_type": "code",
      "source": [
        "TSLA_balance_sheets = (raw_data[0])\n",
        "TSLA_adj_stock = (raw_data[1])\n",
        "TSLA_income_statement = (raw_data[2])"
      ],
      "metadata": {
        "id": "9uELTVEhAZQ3"
      },
      "execution_count": 60,
      "outputs": []
    },
    {
      "cell_type": "markdown",
      "source": [
        "The above cell define three variables.\n",
        "\n",
        "These three variables are the balance sheets, stock prices, and income statements extracted from the JSON object returned from the API call.\n",
        "\n",
        "Every one of these variables contains a dictionary from which we need to further extract information."
      ],
      "metadata": {
        "id": "wO4CBnAHiuRo"
      }
    },
    {
      "cell_type": "code",
      "source": [],
      "metadata": {
        "id": "EjBwQjjwjP8-"
      },
      "execution_count": 65,
      "outputs": []
    },
    {
      "cell_type": "code",
      "source": [],
      "metadata": {
        "id": "2RM39FuVjjyS"
      },
      "execution_count": 65,
      "outputs": []
    }
  ]
}